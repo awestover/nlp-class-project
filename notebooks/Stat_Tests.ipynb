{
 "cells": [
  {
   "cell_type": "code",
   "execution_count": 1,
   "execution_state": "idle",
   "id": "d3616030-9841-4eeb-a1c0-b4fa591e2fe1",
   "metadata": {},
   "outputs": [],
   "source": [
    "import numpy as np\n",
    "import scipy"
   ]
  },
  {
   "cell_type": "code",
   "execution_count": 2,
   "execution_state": "idle",
   "id": "e0ecfabf-f3ad-4ac3-a8de-97e71f9aff5a",
   "metadata": {},
   "outputs": [],
   "source": [
    "small_6M_ppls = [\n",
    "    (116.7, 114.9),  # (LTR ppl, RTL ppl)\n",
    "    (117.4, 114.4),\n",
    "    (116.7, 115.0),\n",
    "    (117.4, 115.4),\n",
    "    (117.5, 113.8),\n",
    "    (116.1, 114.0)\n",
    "]"
   ]
  },
  {
   "cell_type": "code",
   "execution_count": 11,
   "execution_state": "idle",
   "id": "bacb5848-af91-4443-9d71-81b6cb0e6aa6",
   "metadata": {},
   "outputs": [
    {
     "name": "stdout",
     "output_type": "stream",
     "text": [
      "TtestResult(statistic=6.996032521277681, pvalue=1.9799032618443016e-05, df=9.885322295882748)\n",
      "TtestResult(statistic=7.357072921297962, pvalue=0.0003642557582314903, df=5)\n"
     ]
    }
   ],
   "source": [
    "# One-sided unpaired Welch t-test\n",
    "small_ltr_ppls, small_rtl_ppls = np.array(small_6M_ppls).T\n",
    "print(scipy.stats.ttest_ind(small_ltr_ppls, small_rtl_ppls, equal_var=False, alternative=\"greater\"))\n",
    "# Paired t-test\n",
    "print(scipy.stats.ttest_rel(small_ltr_ppls, small_rtl_ppls, alternative=\"greater\"))"
   ]
  },
  {
   "cell_type": "code",
   "execution_count": 12,
   "execution_state": "idle",
   "id": "c23d0ecf-c0f0-4a61-ac99-79c9c91c1d76",
   "metadata": {},
   "outputs": [
    {
     "data": {
      "text/plain": [
       "0.0010822510822510823"
      ]
     },
     "execution_count": 12,
     "metadata": {},
     "output_type": "execute_result"
    }
   ],
   "source": [
    "# Permutation test\n",
    "def statistic(x, y):\n",
    "    return np.mean(x) - np.mean(y)\n",
    "\n",
    "scipy.stats.permutation_test((small_ltr_ppls, small_rtl_ppls), statistic, n_resamples=np.inf, alternative=\"greater\").pvalue"
   ]
  },
  {
   "cell_type": "code",
   "execution_count": 8,
   "execution_state": "idle",
   "id": "d2bc01d6-821e-4a31-acd2-9d54592ab095",
   "metadata": {},
   "outputs": [
    {
     "data": {
      "text/plain": [
       "0.0010822510822510823"
      ]
     },
     "execution_count": 8,
     "metadata": {},
     "output_type": "execute_result"
    }
   ],
   "source": []
  },
  {
   "cell_type": "code",
   "execution_count": 9,
   "execution_state": "idle",
   "id": "d59a5f23-7306-478b-87cc-4a064675c48d",
   "metadata": {},
   "outputs": [],
   "source": [
    "small_6M_losses = [\n",
    "    (4.761364663504469, 4.744475745069383),\n",
    "    (4.76577, 4.73966),  # (LTR loss, RTL loss)\n",
    "    (4.7599, 4.74497),\n",
    "    (4.76553, 4.74848),\n",
    "    (4.76638, 4.73508),\n",
    "    (4.75452, 4.73628)\n",
    "]"
   ]
  },
  {
   "cell_type": "code",
   "execution_count": 10,
   "execution_state": "idle",
   "id": "ab613d50-98a3-409d-92c2-123943a10c39",
   "metadata": {},
   "outputs": [
    {
     "name": "stdout",
     "output_type": "stream",
     "text": [
      "TtestResult(statistic=7.221951304385972, pvalue=1.5856791940777708e-05, df=9.802083740534792)\n",
      "TtestResult(statistic=7.866415444091634, pvalue=0.00026667826712639355, df=5)\n",
      "0.0010822510822510823\n"
     ]
    }
   ],
   "source": [
    "small_ltr_losses, small_rtl_losses = np.array(small_6M_losses).T\n",
    "print(scipy.stats.ttest_ind(small_ltr_losses, small_rtl_losses, equal_var=False, alternative=\"greater\"))\n",
    "print(scipy.stats.ttest_rel(small_ltr_losses, small_rtl_losses, alternative=\"greater\"))\n",
    "print(scipy.stats.permutation_test((small_ltr_losses, small_rtl_losses), statistic, n_resamples=np.inf, alternative=\"greater\").pvalue)"
   ]
  },
  {
   "cell_type": "code",
   "execution_count": null,
   "id": "83aec592-de6e-43b9-9420-4b211641b75f",
   "metadata": {},
   "outputs": [],
   "source": []
  },
  {
   "cell_type": "code",
   "execution_count": 23,
   "execution_state": "idle",
   "id": "ea396600-66d9-45b4-b36c-4099c5548dec",
   "metadata": {},
   "outputs": [],
   "source": [
    "import pandas as pd\n",
    "import matplotlib.pyplot as plt"
   ]
  },
  {
   "cell_type": "code",
   "execution_count": 24,
   "execution_state": "idle",
   "id": "c46997aa-65b5-4c49-8fa8-5c60d33362f5",
   "metadata": {},
   "outputs": [],
   "source": [
    "csv_filename = '../data/wandb_export_2024-12-04T19_56_43.325-05_00.csv'\n",
    "df = pd.read_csv(csv_filename)"
   ]
  },
  {
   "cell_type": "code",
   "execution_count": 25,
   "execution_state": "idle",
   "id": "7fcd8146-99cc-4322-8338-b58e58b36a30",
   "metadata": {},
   "outputs": [],
   "source": [
    "df = df.drop([0, 1, 10, 11, 12, 15,16,17,18,19])"
   ]
  },
  {
   "cell_type": "code",
   "execution_count": 28,
   "execution_state": "idle",
   "id": "ae6a65ee-1300-4d79-b268-c5ebae8a3a99",
   "metadata": {},
   "outputs": [],
   "source": [
    "df[\"val_ppl\"] = np.e ** df[\"val_loss\"]"
   ]
  },
  {
   "cell_type": "code",
   "execution_count": 39,
   "execution_state": "idle",
   "id": "e1ebf94e-d645-4309-addc-aece1cc703ac",
   "metadata": {},
   "outputs": [],
   "source": [
    "transferred_ppl = np.array([24.4, 24.4, 21.9, 21.8, 18.1, 17.7])  # (rtl, ltr, rtl, ltr, ...)"
   ]
  },
  {
   "cell_type": "code",
   "execution_count": 44,
   "execution_state": "idle",
   "id": "79f2b427-d430-4aa4-9cef-8dc4d3d9b00b",
   "metadata": {},
   "outputs": [
    {
     "data": {
      "text/plain": [
       "<matplotlib.legend.Legend at 0x7f40a395bc20>"
      ]
     },
     "execution_count": 44,
     "metadata": {},
     "output_type": "execute_result"
    },
    {
     "data": {
      "image/png": "[encoded data removed]",
      "text/plain": [
       "<Figure size 640x480 with 1 Axes>"
      ]
     },
     "metadata": {},
     "output_type": "display_data"
    }
   ],
   "source": [
    "# Cringe hardcoding\n",
    "plt.plot([6, 11, 19, 35, 67], np.array(df[\"val_ppl\"])[1::2] - np.array(df[\"val_ppl\"])[::2], linewidth=2, label=\"Scratch\")\n",
    "plt.plot([67, 110, 335], transferred_ppl[1::2] - transferred_ppl[::2], linewidth=2, label=\"Transferred\")\n",
    "plt.axhline(y=0, color='gray', linestyle='--')\n",
    "plt.xlabel(\"Parameter Count (in millions)\")\n",
    "plt.ylabel(\"RTL PPL - LTR PPL\")\n",
    "plt.legend()"
   ]
  },
  {
   "cell_type": "code",
   "execution_count": 60,
   "execution_state": "idle",
   "id": "66ef4460-3a03-4017-845a-9ff04733985e",
   "metadata": {},
   "outputs": [
    {
     "data": {
      "text/plain": [
       "<matplotlib.legend.Legend at 0x7f40a33cdf40>"
      ]
     },
     "execution_count": 60,
     "metadata": {},
     "output_type": "execute_result"
    },
    {
     "data": {
      "image/png": "[encoded data removed]",
      "text/plain": [
       "<Figure size 640x480 with 1 Axes>"
      ]
     },
     "metadata": {},
     "output_type": "display_data"
    }
   ],
   "source": [
    "# Cringe hardcoding\n",
    "plt.plot([6, 11, 19, 35, 67], np.array(df[\"val_loss\"])[1::2] - np.array(df[\"val_loss\"])[::2], linewidth=2, marker=\"o\", label=\"Scratch\")\n",
    "plt.plot([67, 110, 335], np.log(transferred_ppl[1::2]) - np.log(transferred_ppl[::2]), linewidth=2, marker=\"o\", label=\"Transferred\")\n",
    "plt.axhline(y=0, color='gray', linestyle='--')\n",
    "plt.xlabel(\"Parameter Count (in millions)\")\n",
    "plt.ylabel(\"RTL Loss - LTR Loss\")\n",
    "plt.title(\"RTL and LTR Loss Difference Across Model Size\")\n",
    "plt.legend()"
   ]
  },
  {
   "cell_type": "code",
   "execution_count": 61,
   "execution_state": "idle",
   "id": "b492b7f4-7e93-444b-b5ba-1bdb5b6403f2",
   "metadata": {},
   "outputs": [
    {
     "data": {
      "text/html": [
       "<div>\n",
       "<style scoped>\n",
       "    .dataframe tbody tr th:only-of-type {\n",
       "        vertical-align: middle;\n",
       "    }\n",
       "\n",
       "    .dataframe tbody tr th {\n",
       "        vertical-align: top;\n",
       "    }\n",
       "\n",
       "    .dataframe thead th {\n",
       "        text-align: right;\n",
       "    }\n",
       "</style>\n",
       "<table border=\"1\" class=\"dataframe\">\n",
       "  <thead>\n",
       "    <tr style=\"text-align: right;\">\n",
       "      <th></th>\n",
       "      <th>Name</th>\n",
       "      <th>val_loss</th>\n",
       "    </tr>\n",
       "  </thead>\n",
       "  <tbody>\n",
       "    <tr>\n",
       "      <th>0</th>\n",
       "      <td>distilbert_base_japan_rtl</td>\n",
       "      <td>2.832614</td>\n",
       "    </tr>\n",
       "    <tr>\n",
       "      <th>1</th>\n",
       "      <td>distilbert_base_japan_ltr</td>\n",
       "      <td>2.823765</td>\n",
       "    </tr>\n",
       "    <tr>\n",
       "      <th>2</th>\n",
       "      <td>bert_6M_rtl_scratch</td>\n",
       "      <td>4.744476</td>\n",
       "    </tr>\n",
       "    <tr>\n",
       "      <th>3</th>\n",
       "      <td>bert_6_ltr_scratch</td>\n",
       "      <td>4.761365</td>\n",
       "    </tr>\n",
       "    <tr>\n",
       "      <th>4</th>\n",
       "      <td>bert_11_rtl_scratch</td>\n",
       "      <td>4.446950</td>\n",
       "    </tr>\n",
       "    <tr>\n",
       "      <th>5</th>\n",
       "      <td>bert_11_ltr_scratch</td>\n",
       "      <td>4.462379</td>\n",
       "    </tr>\n",
       "    <tr>\n",
       "      <th>6</th>\n",
       "      <td>bert_19_rtl_scratch</td>\n",
       "      <td>4.177320</td>\n",
       "    </tr>\n",
       "    <tr>\n",
       "      <th>7</th>\n",
       "      <td>bert_19_ltr_scratch</td>\n",
       "      <td>4.186271</td>\n",
       "    </tr>\n",
       "    <tr>\n",
       "      <th>8</th>\n",
       "      <td>bert_35_rtl_scratch</td>\n",
       "      <td>3.927857</td>\n",
       "    </tr>\n",
       "    <tr>\n",
       "      <th>9</th>\n",
       "      <td>bert_35_ltr_scratch</td>\n",
       "      <td>3.941595</td>\n",
       "    </tr>\n",
       "    <tr>\n",
       "      <th>10</th>\n",
       "      <td>qa_distilbert_base_ltr_v2</td>\n",
       "      <td>3.150267</td>\n",
       "    </tr>\n",
       "    <tr>\n",
       "      <th>11</th>\n",
       "      <td>qa_distilbert_base_rtl_v2</td>\n",
       "      <td>3.190452</td>\n",
       "    </tr>\n",
       "    <tr>\n",
       "      <th>12</th>\n",
       "      <td>qa_ltr_distilbert_base</td>\n",
       "      <td>3.325950</td>\n",
       "    </tr>\n",
       "    <tr>\n",
       "      <th>13</th>\n",
       "      <td>distilbert_base_ltr_scratch</td>\n",
       "      <td>3.686307</td>\n",
       "    </tr>\n",
       "    <tr>\n",
       "      <th>14</th>\n",
       "      <td>distilbert_base_rtl_scratch</td>\n",
       "      <td>3.688566</td>\n",
       "    </tr>\n",
       "    <tr>\n",
       "      <th>15</th>\n",
       "      <td>deep-monkey-11</td>\n",
       "      <td>3.009245</td>\n",
       "    </tr>\n",
       "    <tr>\n",
       "      <th>16</th>\n",
       "      <td>distilbert_base_ltr_4epoch</td>\n",
       "      <td>3.196100</td>\n",
       "    </tr>\n",
       "    <tr>\n",
       "      <th>17</th>\n",
       "      <td>distilbert_base_rtl_4epoch</td>\n",
       "      <td>3.193662</td>\n",
       "    </tr>\n",
       "    <tr>\n",
       "      <th>18</th>\n",
       "      <td>bert_base_ltr_4epoch</td>\n",
       "      <td>3.082236</td>\n",
       "    </tr>\n",
       "    <tr>\n",
       "      <th>19</th>\n",
       "      <td>bert_base_rtl_4epoch</td>\n",
       "      <td>3.088110</td>\n",
       "    </tr>\n",
       "  </tbody>\n",
       "</table>\n",
       "</div>"
      ],
      "text/plain": [
       "                           Name  val_loss\n",
       "0     distilbert_base_japan_rtl  2.832614\n",
       "1     distilbert_base_japan_ltr  2.823765\n",
       "2           bert_6M_rtl_scratch  4.744476\n",
       "3            bert_6_ltr_scratch  4.761365\n",
       "4           bert_11_rtl_scratch  4.446950\n",
       "5           bert_11_ltr_scratch  4.462379\n",
       "6           bert_19_rtl_scratch  4.177320\n",
       "7           bert_19_ltr_scratch  4.186271\n",
       "8           bert_35_rtl_scratch  3.927857\n",
       "9           bert_35_ltr_scratch  3.941595\n",
       "10    qa_distilbert_base_ltr_v2  3.150267\n",
       "11    qa_distilbert_base_rtl_v2  3.190452\n",
       "12       qa_ltr_distilbert_base  3.325950\n",
       "13  distilbert_base_ltr_scratch  3.686307\n",
       "14  distilbert_base_rtl_scratch  3.688566\n",
       "15               deep-monkey-11  3.009245\n",
       "16   distilbert_base_ltr_4epoch  3.196100\n",
       "17   distilbert_base_rtl_4epoch  3.193662\n",
       "18         bert_base_ltr_4epoch  3.082236\n",
       "19         bert_base_rtl_4epoch  3.088110"
      ]
     },
     "execution_count": 61,
     "metadata": {},
     "output_type": "execute_result"
    }
   ],
   "source": [
    " pd.read_csv(csv_filename)"
   ]
  },
  {
   "cell_type": "code",
   "execution_count": null,
   "id": "fda6f102-904a-43e1-b078-258d39f1738f",
   "metadata": {},
   "outputs": [],
   "source": []
  }
 ],
 "metadata": {
  "kernelspec": {
   "display_name": "Python 3 (ipykernel)",
   "language": "python",
   "name": "python3"
  },
  "language_info": {
   "codemirror_mode": {
    "name": "ipython",
    "version": 3
   },
   "file_extension": ".py",
   "mimetype": "text/x-python",
   "name": "python",
   "nbconvert_exporter": "python",
   "pygments_lexer": "ipython3",
   "version": "3.12.7"
  }
 },
 "nbformat": 4,
 "nbformat_minor": 5
}
